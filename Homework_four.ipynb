{
  "nbformat": 4,
  "nbformat_minor": 0,
  "metadata": {
    "colab": {
      "name": "Homework_four.ipynb",
      "provenance": [],
      "authorship_tag": "ABX9TyN9n3qAH3KgfHL6piMxBYWi",
      "include_colab_link": true
    },
    "kernelspec": {
      "name": "python3",
      "display_name": "Python 3"
    },
    "language_info": {
      "name": "python"
    }
  },
  "cells": [
    {
      "cell_type": "markdown",
      "metadata": {
        "id": "view-in-github",
        "colab_type": "text"
      },
      "source": [
        "<a href=\"https://colab.research.google.com/github/Atarazona11/sample_four/blob/main/Homework_four.ipynb\" target=\"_parent\"><img src=\"https://colab.research.google.com/assets/colab-badge.svg\" alt=\"Open In Colab\"/></a>"
      ]
    },
    {
      "cell_type": "code",
      "source": [
        "import random"
      ],
      "metadata": {
        "id": "GlVxfdL8FU4U"
      },
      "execution_count": 1,
      "outputs": []
    },
    {
      "cell_type": "code",
      "execution_count": 2,
      "metadata": {
        "id": "kgcB8C0BFG7O"
      },
      "outputs": [],
      "source": [
        "# Make an attribute, an integer, which represents the amount of doors that the\n",
        "# simulation will use to play the game.\n",
        "class Simulation:\n",
        "    def __int__(self, doornum):\n",
        "        # Set self.doornum equal to the doornum that was passed in\n",
        "        # then make an attribute named numboors that will be the \n",
        "        # number of doors that  will be used to play the game\n",
        "        self.numdoors = doornum\n",
        "    # Will just pass in the self parameters"
      ]
    },
    {
      "cell_type": "code",
      "source": [
        "    def set_random_doors(self):\n",
        "        # Will use numdoors number to create a list containing “zonk” strings. This list should be\n",
        "        # as  long  as  the  number.  Meaning,  if  the  number  passed  in  is  2,  it  should  \n",
        "        # create  a  list containing two “zonks” (ex. [“zonk”,”zonk”]).\"\"\"\n",
        "        zonkstringlist = []\n",
        "        # We will keep looking around as long as the number is 0 and and nothing higer then doornum\n",
        "        # Had to look up https://www.freecodecamp.org/news/python-for-loop-for-i-in-range-example/\n",
        "        # to make sure I was doing it correctly.\n",
        "        for i in range(0, self.numdoors):\n",
        "            zonkstringlist.append(\"zonk\")\n",
        "         \n",
        "        # It should then replace \n",
        "        # one of those items in the list to the string “car” at random. It should return this list.\n",
        "        self._randomCarIndex = random.randint(0, (self.numdoors - 1))\n",
        "        zonkstringlist[self._randomCarIndex] = 'car'\n",
        "        #return the list that was created\n",
        "        return zookstringlist"
      ],
      "metadata": {
        "id": "JW7fkyAJFQ7r"
      },
      "execution_count": 3,
      "outputs": []
    },
    {
      "cell_type": "code",
      "source": [
        "def choose_doors(self):\n",
        "        #Call  set_random_doors()  and  save  the  list  to  a  variable.  Pick  and  remove  a  random  item\n",
        "        #from  the  this  list  which  represents  the  door  that  the  user/contestant  has  chosen. \n",
        "        zonkstringlist = self.set_random_doors()\n",
        "        doorplacement = random.randint(0, (self.numdoors - 1))\n",
        "        placement = zonkstringlist[doorplacement]\n",
        "        # It should then remove a “zonk” from the list (the order of the zonk doesn’t matter for this\n",
        "        # part, it can be the first zonk, it can be the last zonk or it can be a random zonk).\n",
        "        if 'zonk' in zonkstringlist:\n",
        "            zonkstringlist.remove('zonk')\n",
        "\n",
        "        #It should then  pick  and  remove  a  random  door  from  the  list  as  the  alternate  door.\n",
        "        alternatedoorplacement = random.randint(0, (len(zonkstringlist) - 1))\n",
        "        alternatedoor = zonkstringlist[alternatedoorplacement]\n",
        "        # Return  the contestant door and the alternate door in that order as a tuple.\n",
        "        return(placement, alternatedoor)\n",
        "    # switch  -  A  boolean;  Default  value  of  False\n",
        "    # iterations  -  An  integer;  Default  value  of  1;"
      ],
      "metadata": {
        "id": "Y5aiEH8TFNg0"
      },
      "execution_count": 4,
      "outputs": []
    },
    {
      "cell_type": "code",
      "source": [
        "def play_game(self, switch = False, iterations = 1):\n",
        "        # ▪ We  will  want  to  keep  track  of  how  many  times  we  win  and  lose  given  how  many iterations we\n",
        "        # are running and calculate the final win percentage. Return this percentage\n",
        "        # We want to keep count of the percentage of the mount of times that we won\n",
        "        # Will start them off as 0, Since we can't tie I will use t count as the total count.\n",
        "        wcount = 0\n",
        "        lcount = 0\n",
        "        tcount = 0\n",
        "        for i in range(0, iterations):\n",
        "            placement, alternatedoor = self.choose_doors()\n",
        "            tcount += 1\n",
        "            # ▪ To determine if a game has been won is to look at whether the door that the player chose is  1)  the  “car”\n",
        "            # and  the  switch  parameter  is  False  or  2)  if  the  alternate  door  is  the  “car” and the switch \n",
        "            # parameter is True. If either of those conditions are met then it counts as a win.\n",
        "            if ((placement == 'car') and (switch == False)):\n",
        "                wcount += 1\n",
        "            elif((alternatedoor == 'car') and (switch == True)):\n",
        "                wcount += 1\n",
        "            else:\n",
        "                lcount += 1\n",
        "        #calculate the win percentage\n",
        "        winpercentage = round(float(wcount / tcount),2)\n",
        "        # Return the win percentage\n",
        "        return winpercentage"
      ],
      "metadata": {
        "id": "gUCJBHe5FLTK"
      },
      "execution_count": 5,
      "outputs": []
    },
    {
      "cell_type": "code",
      "source": [
        "def main ():\n",
        "    testing = Simulation(3)\n",
        "    print(testing.play_game(True, 1000))"
      ],
      "metadata": {
        "id": "XxWEo5KBFJfs"
      },
      "execution_count": 6,
      "outputs": []
    },
    {
      "cell_type": "code",
      "source": [
        "if __name__ == \"__main__\":\n",
        "  main()"
      ],
      "metadata": {
        "colab": {
          "base_uri": "https://localhost:8080/",
          "height": 276
        },
        "id": "W5W90TpqFI1o",
        "outputId": "25b5132a-bfc5-4d2e-ca37-51ddfa676be9"
      },
      "execution_count": 7,
      "outputs": [
        {
          "output_type": "error",
          "ename": "TypeError",
          "evalue": "ignored",
          "traceback": [
            "\u001b[0;31m---------------------------------------------------------------------------\u001b[0m",
            "\u001b[0;31mTypeError\u001b[0m                                 Traceback (most recent call last)",
            "\u001b[0;32m<ipython-input-7-972361fa1b80>\u001b[0m in \u001b[0;36m<module>\u001b[0;34m()\u001b[0m\n\u001b[1;32m      1\u001b[0m \u001b[0;32mif\u001b[0m \u001b[0m__name__\u001b[0m \u001b[0;34m==\u001b[0m \u001b[0;34m\"__main__\"\u001b[0m\u001b[0;34m:\u001b[0m\u001b[0;34m\u001b[0m\u001b[0;34m\u001b[0m\u001b[0m\n\u001b[0;32m----> 2\u001b[0;31m     \u001b[0mmain\u001b[0m\u001b[0;34m(\u001b[0m\u001b[0;34m)\u001b[0m\u001b[0;34m\u001b[0m\u001b[0;34m\u001b[0m\u001b[0m\n\u001b[0m",
            "\u001b[0;32m<ipython-input-6-bc12105b95c6>\u001b[0m in \u001b[0;36mmain\u001b[0;34m()\u001b[0m\n\u001b[1;32m      1\u001b[0m \u001b[0;32mdef\u001b[0m \u001b[0mmain\u001b[0m \u001b[0;34m(\u001b[0m\u001b[0;34m)\u001b[0m\u001b[0;34m:\u001b[0m\u001b[0;34m\u001b[0m\u001b[0;34m\u001b[0m\u001b[0m\n\u001b[0;32m----> 2\u001b[0;31m     \u001b[0mtesting\u001b[0m \u001b[0;34m=\u001b[0m \u001b[0mSimulation\u001b[0m\u001b[0;34m(\u001b[0m\u001b[0;36m3\u001b[0m\u001b[0;34m)\u001b[0m\u001b[0;34m\u001b[0m\u001b[0;34m\u001b[0m\u001b[0m\n\u001b[0m\u001b[1;32m      3\u001b[0m     \u001b[0mprint\u001b[0m\u001b[0;34m(\u001b[0m\u001b[0mtesting\u001b[0m\u001b[0;34m.\u001b[0m\u001b[0mplay_game\u001b[0m\u001b[0;34m(\u001b[0m\u001b[0;32mTrue\u001b[0m\u001b[0;34m,\u001b[0m \u001b[0;36m1000\u001b[0m\u001b[0;34m)\u001b[0m\u001b[0;34m)\u001b[0m\u001b[0;34m\u001b[0m\u001b[0;34m\u001b[0m\u001b[0m\n",
            "\u001b[0;31mTypeError\u001b[0m: Simulation() takes no arguments"
          ]
        }
      ]
    }
  ]
}